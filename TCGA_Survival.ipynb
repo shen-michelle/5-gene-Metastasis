{
  "nbformat": 4,
  "nbformat_minor": 0,
  "metadata": {
    "colab": {
      "provenance": [],
      "include_colab_link": true
    },
    "kernelspec": {
      "name": "python3",
      "display_name": "Python 3"
    },
    "language_info": {
      "name": "python"
    }
  },
  "cells": [
    {
      "cell_type": "markdown",
      "metadata": {
        "id": "view-in-github",
        "colab_type": "text"
      },
      "source": [
        "<a href=\"https://colab.research.google.com/github/shen-michelle/5-gene-Metastasis/blob/TCGA/TCGA_Survival.ipynb\" target=\"_parent\"><img src=\"https://colab.research.google.com/assets/colab-badge.svg\" alt=\"Open In Colab\"/></a>"
      ]
    },
    {
      "cell_type": "code",
      "execution_count": null,
      "metadata": {
        "id": "yzZ88TziEtHM"
      },
      "outputs": [],
      "source": [
        "# call pandas data analysis package\n",
        "import pandas as pd\n",
        "import numpy as np\n",
        "import io\n"
      ]
    },
    {
      "cell_type": "code",
      "source": [
        "!pip install kaplanmeier"
      ],
      "metadata": {
        "colab": {
          "base_uri": "https://localhost:8080/"
        },
        "id": "9TOX-vWrsdXI",
        "outputId": "8ca3acef-2b78-4f63-fd23-4a925b21d7ca"
      },
      "execution_count": null,
      "outputs": [
        {
          "output_type": "stream",
          "name": "stdout",
          "text": [
            "Requirement already satisfied: kaplanmeier in /usr/local/lib/python3.10/dist-packages (0.1.9)\n",
            "Requirement already satisfied: matplotlib in /usr/local/lib/python3.10/dist-packages (from kaplanmeier) (3.7.1)\n",
            "Requirement already satisfied: numpy in /usr/local/lib/python3.10/dist-packages (from kaplanmeier) (1.23.5)\n",
            "Requirement already satisfied: pandas in /usr/local/lib/python3.10/dist-packages (from kaplanmeier) (1.5.3)\n",
            "Requirement already satisfied: seaborn in /usr/local/lib/python3.10/dist-packages (from kaplanmeier) (0.12.2)\n",
            "Requirement already satisfied: lifelines in /usr/local/lib/python3.10/dist-packages (from kaplanmeier) (0.27.8)\n",
            "Requirement already satisfied: scipy>=1.2.0 in /usr/local/lib/python3.10/dist-packages (from lifelines->kaplanmeier) (1.11.4)\n",
            "Requirement already satisfied: autograd>=1.5 in /usr/local/lib/python3.10/dist-packages (from lifelines->kaplanmeier) (1.6.2)\n",
            "Requirement already satisfied: autograd-gamma>=0.3 in /usr/local/lib/python3.10/dist-packages (from lifelines->kaplanmeier) (0.5.0)\n",
            "Requirement already satisfied: formulaic>=0.2.2 in /usr/local/lib/python3.10/dist-packages (from lifelines->kaplanmeier) (0.6.6)\n",
            "Requirement already satisfied: contourpy>=1.0.1 in /usr/local/lib/python3.10/dist-packages (from matplotlib->kaplanmeier) (1.2.0)\n",
            "Requirement already satisfied: cycler>=0.10 in /usr/local/lib/python3.10/dist-packages (from matplotlib->kaplanmeier) (0.12.1)\n",
            "Requirement already satisfied: fonttools>=4.22.0 in /usr/local/lib/python3.10/dist-packages (from matplotlib->kaplanmeier) (4.45.1)\n",
            "Requirement already satisfied: kiwisolver>=1.0.1 in /usr/local/lib/python3.10/dist-packages (from matplotlib->kaplanmeier) (1.4.5)\n",
            "Requirement already satisfied: packaging>=20.0 in /usr/local/lib/python3.10/dist-packages (from matplotlib->kaplanmeier) (23.2)\n",
            "Requirement already satisfied: pillow>=6.2.0 in /usr/local/lib/python3.10/dist-packages (from matplotlib->kaplanmeier) (9.4.0)\n",
            "Requirement already satisfied: pyparsing>=2.3.1 in /usr/local/lib/python3.10/dist-packages (from matplotlib->kaplanmeier) (3.1.1)\n",
            "Requirement already satisfied: python-dateutil>=2.7 in /usr/local/lib/python3.10/dist-packages (from matplotlib->kaplanmeier) (2.8.2)\n",
            "Requirement already satisfied: pytz>=2020.1 in /usr/local/lib/python3.10/dist-packages (from pandas->kaplanmeier) (2023.3.post1)\n",
            "Requirement already satisfied: future>=0.15.2 in /usr/local/lib/python3.10/dist-packages (from autograd>=1.5->lifelines->kaplanmeier) (0.18.3)\n",
            "Requirement already satisfied: astor>=0.8 in /usr/local/lib/python3.10/dist-packages (from formulaic>=0.2.2->lifelines->kaplanmeier) (0.8.1)\n",
            "Requirement already satisfied: interface-meta>=1.2.0 in /usr/local/lib/python3.10/dist-packages (from formulaic>=0.2.2->lifelines->kaplanmeier) (1.3.0)\n",
            "Requirement already satisfied: typing-extensions>=4.2.0 in /usr/local/lib/python3.10/dist-packages (from formulaic>=0.2.2->lifelines->kaplanmeier) (4.5.0)\n",
            "Requirement already satisfied: wrapt>=1.0 in /usr/local/lib/python3.10/dist-packages (from formulaic>=0.2.2->lifelines->kaplanmeier) (1.14.1)\n",
            "Requirement already satisfied: six>=1.5 in /usr/local/lib/python3.10/dist-packages (from python-dateutil>=2.7->matplotlib->kaplanmeier) (1.16.0)\n"
          ]
        }
      ]
    },
    {
      "cell_type": "code",
      "source": [
        "import kaplanmeier as km"
      ],
      "metadata": {
        "id": "cYk3BiuJsqp4"
      },
      "execution_count": null,
      "outputs": []
    },
    {
      "cell_type": "code",
      "source": [
        "df = pd.read_csv(\"TCGA 152.csv\")\n",
        "# Read the file that is uploaded in the directory \"file_name\"\n",
        "\n",
        "# add code here\n",
        "df = df.dropna(axis=0, how='all')\n",
        "# Cleanup dataset (drop NaN)"
      ],
      "metadata": {
        "id": "Ad3fXHt2rhzJ"
      },
      "execution_count": null,
      "outputs": []
    },
    {
      "cell_type": "code",
      "source": [
        "for i in range(1,150):\n",
        "  j= 4 + i\n",
        "  data = df.iloc[:, [1,2,j]]\n",
        "  gene = data.columns[2]\n",
        "  data = data.replace(to_replace='NP', value=np.NaN)\n",
        "  data = data.dropna(axis=0, how='any', inplace=False)\n",
        "  # drop the NP values to cleanup data\n",
        "\n",
        "  data[gene] = data[gene].astype(float)\n",
        "  data = data.sort_values(by=[gene], ascending= True)\n",
        "  # sort data by gene mRNA value\n",
        "\n",
        "  size = data[gene].size\n",
        "  marker = round(size / 2)\n",
        "  top_quartile = data.head(marker)\n",
        "\n",
        "  column_number = len(top_quartile)\n",
        "  top_quartile.insert(3, \"Group\", value=np.ones(marker))\n",
        "  # lowest mRNA level is group 1\n",
        "\n",
        "  bottom_quartile = data.tail(marker)\n",
        "  bottom_quartile.insert(3, \"Group\", value=np.zeros(marker))\n",
        "  # highest mRNA level is group 0\n",
        "\n",
        "  frames = [top_quartile, bottom_quartile]\n",
        "  table = pd.concat(frames)\n",
        "\n",
        "  table = table.replace(to_replace='0:DiseaseFree', value=0)\n",
        "  table = table.replace(to_replace='1:Recurred/Progressed', value=1)\n",
        "\n",
        "  # Data\n",
        "  time_event = table['Disease Free (Months)']\n",
        "  censoring = table['Disease Free Status']\n",
        "  y = table['Group']\n",
        "\n",
        "  # Compute Survival\n",
        "  results = km.fit(time_event, censoring, y)\n",
        "\n",
        "  # Plot\n",
        "  if results['logrank_P'] < 0.05 and results['logrank_Z'] > 0:\n",
        "    print(gene)\n",
        "  # km.plot(results)\n"
      ],
      "metadata": {
        "colab": {
          "base_uri": "https://localhost:8080/"
        },
        "id": "hKRfi_Vdrlra",
        "outputId": "52e933f7-9d97-4949-b839-e7662a858d3b"
      },
      "execution_count": null,
      "outputs": [
        {
          "output_type": "stream",
          "name": "stderr",
          "text": [
            "<ipython-input-11-aa9b5367f228>:9: SettingWithCopyWarning: \n",
            "A value is trying to be set on a copy of a slice from a DataFrame.\n",
            "Try using .loc[row_indexer,col_indexer] = value instead\n",
            "\n",
            "See the caveats in the documentation: https://pandas.pydata.org/pandas-docs/stable/user_guide/indexing.html#returning-a-view-versus-a-copy\n",
            "  data[gene] = data[gene].astype(float)\n"
          ]
        },
        {
          "output_type": "stream",
          "name": "stdout",
          "text": [
            "PCYOX1\n",
            "ASPN\n",
            "DDX17\n",
            "TRA2B\n",
            "SRSF7\n",
            "HDGF\n",
            "U2AF2\n",
            "HNRNPA3\n"
          ]
        },
        {
          "output_type": "stream",
          "name": "stderr",
          "text": [
            "<ipython-input-11-aa9b5367f228>:9: SettingWithCopyWarning: \n",
            "A value is trying to be set on a copy of a slice from a DataFrame.\n",
            "Try using .loc[row_indexer,col_indexer] = value instead\n",
            "\n",
            "See the caveats in the documentation: https://pandas.pydata.org/pandas-docs/stable/user_guide/indexing.html#returning-a-view-versus-a-copy\n",
            "  data[gene] = data[gene].astype(float)\n"
          ]
        },
        {
          "output_type": "stream",
          "name": "stdout",
          "text": [
            "RUVBL1\n",
            "CMBL\n",
            "SRSF9\n",
            "DDX39B\n",
            "NANS\n",
            "ACSL3\n",
            "STMN1\n",
            "ARCN1\n",
            "CA2\n",
            "CPNE1\n",
            "XPO1\n",
            "POSTN\n",
            "MACROH2A1\n",
            "H2AC1\n",
            "H2AC20\n",
            "ILF2\n",
            "AOX1\n",
            "ALDH6A1\n",
            "PDXDC1\n",
            "SCARB2\n",
            "PAICS\n",
            "HIBADH\n"
          ]
        }
      ]
    }
  ]
}