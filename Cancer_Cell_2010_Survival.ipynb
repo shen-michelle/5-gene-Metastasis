{
  "nbformat": 4,
  "nbformat_minor": 0,
  "metadata": {
    "colab": {
      "provenance": [],
      "authorship_tag": "ABX9TyNtmGmjWCgzIeAQVDdQj28t",
      "include_colab_link": true
    },
    "kernelspec": {
      "name": "python3",
      "display_name": "Python 3"
    },
    "language_info": {
      "name": "python"
    }
  },
  "cells": [
    {
      "cell_type": "markdown",
      "metadata": {
        "id": "view-in-github",
        "colab_type": "text"
      },
      "source": [
        "<a href=\"https://colab.research.google.com/github/shen-michelle/5-gene-Metastasis/blob/Cancer-Cell/Cancer_Cell_2010_Survival.ipynb\" target=\"_parent\"><img src=\"https://colab.research.google.com/assets/colab-badge.svg\" alt=\"Open In Colab\"/></a>"
      ]
    },
    {
      "cell_type": "code",
      "execution_count": null,
      "metadata": {
        "id": "yzZ88TziEtHM"
      },
      "outputs": [],
      "source": [
        "# call pandas data analysis package\n",
        "import pandas as pd\n",
        "import numpy as np\n",
        "import io\n"
      ]
    },
    {
      "cell_type": "code",
      "source": [
        "!pip install kaplanmeier"
      ],
      "metadata": {
        "colab": {
          "base_uri": "https://localhost:8080/"
        },
        "id": "9TOX-vWrsdXI",
        "outputId": "885fd8c1-c1dd-45d2-a459-3ff3bc67ac21"
      },
      "execution_count": null,
      "outputs": [
        {
          "output_type": "stream",
          "name": "stdout",
          "text": [
            "Collecting kaplanmeier\n",
            "  Downloading kaplanmeier-0.1.9-py3-none-any.whl (10 kB)\n",
            "Requirement already satisfied: matplotlib in /usr/local/lib/python3.10/dist-packages (from kaplanmeier) (3.7.1)\n",
            "Requirement already satisfied: numpy in /usr/local/lib/python3.10/dist-packages (from kaplanmeier) (1.23.5)\n",
            "Requirement already satisfied: pandas in /usr/local/lib/python3.10/dist-packages (from kaplanmeier) (1.5.3)\n",
            "Requirement already satisfied: seaborn in /usr/local/lib/python3.10/dist-packages (from kaplanmeier) (0.12.2)\n",
            "Collecting lifelines (from kaplanmeier)\n",
            "  Downloading lifelines-0.27.8-py3-none-any.whl (350 kB)\n",
            "\u001b[2K     \u001b[90m━━━━━━━━━━━━━━━━━━━━━━━━━━━━━━━━━━━━━━━━\u001b[0m \u001b[32m350.7/350.7 kB\u001b[0m \u001b[31m2.3 MB/s\u001b[0m eta \u001b[36m0:00:00\u001b[0m\n",
            "\u001b[?25hRequirement already satisfied: scipy>=1.2.0 in /usr/local/lib/python3.10/dist-packages (from lifelines->kaplanmeier) (1.11.4)\n",
            "Requirement already satisfied: autograd>=1.5 in /usr/local/lib/python3.10/dist-packages (from lifelines->kaplanmeier) (1.6.2)\n",
            "Collecting autograd-gamma>=0.3 (from lifelines->kaplanmeier)\n",
            "  Downloading autograd-gamma-0.5.0.tar.gz (4.0 kB)\n",
            "  Preparing metadata (setup.py) ... \u001b[?25l\u001b[?25hdone\n",
            "Collecting formulaic>=0.2.2 (from lifelines->kaplanmeier)\n",
            "  Downloading formulaic-0.6.6-py3-none-any.whl (91 kB)\n",
            "\u001b[2K     \u001b[90m━━━━━━━━━━━━━━━━━━━━━━━━━━━━━━━━━━━━━━━━\u001b[0m \u001b[32m91.0/91.0 kB\u001b[0m \u001b[31m6.3 MB/s\u001b[0m eta \u001b[36m0:00:00\u001b[0m\n",
            "\u001b[?25hRequirement already satisfied: contourpy>=1.0.1 in /usr/local/lib/python3.10/dist-packages (from matplotlib->kaplanmeier) (1.2.0)\n",
            "Requirement already satisfied: cycler>=0.10 in /usr/local/lib/python3.10/dist-packages (from matplotlib->kaplanmeier) (0.12.1)\n",
            "Requirement already satisfied: fonttools>=4.22.0 in /usr/local/lib/python3.10/dist-packages (from matplotlib->kaplanmeier) (4.45.1)\n",
            "Requirement already satisfied: kiwisolver>=1.0.1 in /usr/local/lib/python3.10/dist-packages (from matplotlib->kaplanmeier) (1.4.5)\n",
            "Requirement already satisfied: packaging>=20.0 in /usr/local/lib/python3.10/dist-packages (from matplotlib->kaplanmeier) (23.2)\n",
            "Requirement already satisfied: pillow>=6.2.0 in /usr/local/lib/python3.10/dist-packages (from matplotlib->kaplanmeier) (9.4.0)\n",
            "Requirement already satisfied: pyparsing>=2.3.1 in /usr/local/lib/python3.10/dist-packages (from matplotlib->kaplanmeier) (3.1.1)\n",
            "Requirement already satisfied: python-dateutil>=2.7 in /usr/local/lib/python3.10/dist-packages (from matplotlib->kaplanmeier) (2.8.2)\n",
            "Requirement already satisfied: pytz>=2020.1 in /usr/local/lib/python3.10/dist-packages (from pandas->kaplanmeier) (2023.3.post1)\n",
            "Requirement already satisfied: future>=0.15.2 in /usr/local/lib/python3.10/dist-packages (from autograd>=1.5->lifelines->kaplanmeier) (0.18.3)\n",
            "Collecting astor>=0.8 (from formulaic>=0.2.2->lifelines->kaplanmeier)\n",
            "  Downloading astor-0.8.1-py2.py3-none-any.whl (27 kB)\n",
            "Collecting interface-meta>=1.2.0 (from formulaic>=0.2.2->lifelines->kaplanmeier)\n",
            "  Downloading interface_meta-1.3.0-py3-none-any.whl (14 kB)\n",
            "Requirement already satisfied: typing-extensions>=4.2.0 in /usr/local/lib/python3.10/dist-packages (from formulaic>=0.2.2->lifelines->kaplanmeier) (4.5.0)\n",
            "Requirement already satisfied: wrapt>=1.0 in /usr/local/lib/python3.10/dist-packages (from formulaic>=0.2.2->lifelines->kaplanmeier) (1.14.1)\n",
            "Requirement already satisfied: six>=1.5 in /usr/local/lib/python3.10/dist-packages (from python-dateutil>=2.7->matplotlib->kaplanmeier) (1.16.0)\n",
            "Building wheels for collected packages: autograd-gamma\n",
            "  Building wheel for autograd-gamma (setup.py) ... \u001b[?25l\u001b[?25hdone\n",
            "  Created wheel for autograd-gamma: filename=autograd_gamma-0.5.0-py3-none-any.whl size=4031 sha256=37273af71cb582695bc685743be13295e9e94ecb432f9467ed275d4249472ef9\n",
            "  Stored in directory: /root/.cache/pip/wheels/25/cc/e0/ef2969164144c899fedb22b338f6703e2b9cf46eeebf254991\n",
            "Successfully built autograd-gamma\n",
            "Installing collected packages: interface-meta, astor, autograd-gamma, formulaic, lifelines, kaplanmeier\n",
            "Successfully installed astor-0.8.1 autograd-gamma-0.5.0 formulaic-0.6.6 interface-meta-1.3.0 kaplanmeier-0.1.9 lifelines-0.27.8\n"
          ]
        }
      ]
    },
    {
      "cell_type": "code",
      "source": [
        "import kaplanmeier as km"
      ],
      "metadata": {
        "id": "cYk3BiuJsqp4"
      },
      "execution_count": null,
      "outputs": []
    },
    {
      "cell_type": "code",
      "source": [
        "df = pd.read_csv(\"BS Taylor 152.csv\")\n",
        "# Read the file that is uploaded in the directory called \"Filename.csv\"\n",
        "\n",
        "df = df.dropna(axis=0, how='all')\n",
        "# Cleanup dataset (drop NaN)"
      ],
      "metadata": {
        "id": "Ad3fXHt2rhzJ"
      },
      "execution_count": null,
      "outputs": []
    },
    {
      "cell_type": "code",
      "source": [
        "for i in range(1,150):\n",
        "  j= 2 + i\n",
        "  data = df.iloc[:, [1,2,j]]\n",
        "  gene = data.columns[2]\n",
        "  data = data.replace(to_replace='NP', value=np.NaN)\n",
        "  data = data.dropna(axis=0, how='any', inplace=False)\n",
        "  # drop the NP values to cleanup data\n",
        "\n",
        "  data[gene] = data[gene].astype(float)\n",
        "  data = data.sort_values(by=[gene], ascending= True)\n",
        "  # sort data by gene mRNA value\n",
        "\n",
        "  size = data[gene].size\n",
        "  marker = round(size / 2)\n",
        "  top_quartile = data.head(marker)\n",
        "\n",
        "\n",
        "  column_number = len(top_quartile)\n",
        "  top_quartile.insert(3, \"Group\", value=np.ones(marker))\n",
        "  # lowest mRNA level is group 1\n",
        "\n",
        "  bottom_quartile = data.tail(marker)\n",
        "  bottom_quartile.insert(3, \"Group\", value=np.zeros(marker))\n",
        "  # highest mRNA level is group 0\n",
        "\n",
        "  frames = [top_quartile, bottom_quartile]\n",
        "  table = pd.concat(frames)\n",
        "\n",
        "  table = table.replace(to_replace='0:DiseaseFree', value=0)\n",
        "  table = table.replace(to_replace='1:Recurred', value=1)\n",
        "\n",
        "  # Data\n",
        "  time_event = table['Disease Free (Months)']\n",
        "  censoring = table['Disease Free Status']\n",
        "  y = table['Group']\n",
        "\n",
        "  # Compute Survival\n",
        "  results = km.fit(time_event, censoring, y)\n",
        "\n",
        "  # Plot\n",
        "  if results['logrank_P'] < 0.05 and results['logrank_Z'] > 0:\n",
        "    print(gene)\n"
      ],
      "metadata": {
        "colab": {
          "base_uri": "https://localhost:8080/"
        },
        "id": "hKRfi_Vdrlra",
        "outputId": "c1fb4792-8e7f-4c88-9aeb-69a759740770"
      },
      "execution_count": null,
      "outputs": [
        {
          "output_type": "stream",
          "name": "stdout",
          "text": [
            "SRSF7\n",
            "TARDBP\n"
          ]
        },
        {
          "output_type": "stream",
          "name": "stderr",
          "text": [
            "<ipython-input-8-4b14fcd0241b>:9: SettingWithCopyWarning: \n",
            "A value is trying to be set on a copy of a slice from a DataFrame.\n",
            "Try using .loc[row_indexer,col_indexer] = value instead\n",
            "\n",
            "See the caveats in the documentation: https://pandas.pydata.org/pandas-docs/stable/user_guide/indexing.html#returning-a-view-versus-a-copy\n",
            "  data[gene] = data[gene].astype(float)\n"
          ]
        },
        {
          "output_type": "stream",
          "name": "stdout",
          "text": [
            "HDGF\n",
            "HNRNPA3\n",
            "SUCLG2\n",
            "PCYOX1\n",
            "ASPN\n",
            "HK1\n",
            "NANS\n",
            "NAXE\n",
            "ASS1\n",
            "STMN1\n",
            "CA2\n",
            "FABP4\n",
            "RDX\n",
            "H2AC1\n",
            "AOX1\n",
            "SCARB2\n"
          ]
        }
      ]
    }
  ]
}